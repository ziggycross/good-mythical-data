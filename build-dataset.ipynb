{
 "cells": [
  {
   "attachments": {},
   "cell_type": "markdown",
   "metadata": {},
   "source": [
    "### Read credentials from a JSON file\n",
    "Store your credentials in project root, in file 'credentials.json'.\n",
    "\n",
    "For now, all we need is an API key for a Google Cloud project which contains the YouTube Data API. This can be created here: https://console.cloud.google.com/apis/credentials (don't forget to add the YouTube Data API)"
   ]
  },
  {
   "cell_type": "code",
   "execution_count": 1,
   "metadata": {},
   "outputs": [
    {
     "name": "stdout",
     "output_type": "stream",
     "text": [
      "Successfully loaded API key from credentials file.\n"
     ]
    }
   ],
   "source": [
    "import json\n",
    "\n",
    "with open(\"credentials.json\", \"r\") as fh:\n",
    "    credentials = json.load(fh)\n",
    "\n",
    "assert \"API_Key\" in list(credentials.keys())\n",
    "assert type(credentials[\"API_Key\"]) == str\n",
    "\n",
    "print(\"Successfully loaded API key from credentials file.\")"
   ]
  },
  {
   "attachments": {},
   "cell_type": "markdown",
   "metadata": {},
   "source": [
    "### Get episodes using Scrapetube:\n",
    "\n",
    "For testing, use a low number of max_entries. To remove the limit, use `max_entries = None`."
   ]
  },
  {
   "cell_type": "code",
   "execution_count": 2,
   "metadata": {},
   "outputs": [],
   "source": [
    "# !pip install scrapetube "
   ]
  },
  {
   "cell_type": "code",
   "execution_count": 3,
   "metadata": {},
   "outputs": [],
   "source": [
    "# Imports\n",
    "from datetime import datetime\n",
    "import pandas as pd\n",
    "import numpy as np\n",
    "import scrapetube\n",
    "\n",
    "# Parameters\n",
    "max_entries = 50\n",
    "\n",
    "GMM_url = \"https://www.youtube.com/@GoodMythicalMorning\"\n",
    "video_iterator = scrapetube.get_channel(channel_url=GMM_url, limit=max_entries, sort_by=\"newest\")\n",
    "\n",
    "# New dictionary class with multidimensional get\n",
    "class custom_dict(dict):\n",
    "    def multidim_get(self, keys):\n",
    "        value = self\n",
    "        for key in keys:\n",
    "            try:\n",
    "                value = value[key]\n",
    "            except KeyError:\n",
    "                return None\n",
    "        return value\n",
    "\n",
    "# Features to extract from Scrapetube video object\n",
    "\"\"\"\n",
    "#ID\n",
    "    - name\n",
    "    - length\n",
    "    - views\n",
    "    - published date\n",
    "    - thumbnail\n",
    "        - still\n",
    "        - video\n",
    "    - scrape datetime\n",
    "\"\"\"\n",
    "\n",
    "# Function to extract features\n",
    "def get_video_details(video):\n",
    "    video = custom_dict(video)\n",
    "    return {\n",
    "        \"id\": video.multidim_get(keys=[\"videoId\"]),\n",
    "        \"name\": video.multidim_get(keys=[\"title\",\"runs\",0,\"text\"]),\n",
    "        \"duration\": video.multidim_get(keys=[\"lengthText\",\"simpleText\"]),\n",
    "        \"views\": video.multidim_get(keys=[\"viewCountText\",\"simpleText\"]),\n",
    "        \"published\": video.multidim_get(keys=[\"publishedTimeText\",\"simpleText\"]),\n",
    "        \"thumb\": {\n",
    "            \"still\": video.multidim_get(keys=[\"thumbnail\",\"thumbnails\",-1,\"url\"]),\n",
    "            \"video\": video.multidim_get(keys=[\"richThumbnail\",\"movingThumbnailRenderer\",\"movingThumbnailDetails\",\"thumbnails\",0,\"url\"])\n",
    "        },\n",
    "        \"scraped\": datetime.now()\n",
    "    }\n",
    "\n",
    "# Build a dataframe of episodes using our Scrapetube iterator\n",
    "df = pd.DataFrame([\n",
    "    get_video_details(video)\n",
    "    for video\n",
    "    in video_iterator\n",
    "])"
   ]
  },
  {
   "attachments": {},
   "cell_type": "markdown",
   "metadata": {},
   "source": [
    "### Clean duration values:\n",
    "Convert from format \"MM:SS\" to integer value (seconds)\n",
    "- *Note: this will not work for videos over an hour long, but given GMM does not have any episodes meeting this criteria, this shouldn't cause any problems.*"
   ]
  },
  {
   "cell_type": "code",
   "execution_count": 4,
   "metadata": {},
   "outputs": [],
   "source": [
    "df[\"duration\"] = np.dot(\n",
    "    df[\"duration\"].str.split(\":\", expand=True).astype(int), # Get minutes and seconds\n",
    "    [60, 1] # Multiply by 2x1 matrix to convert to total seconds\n",
    "    )"
   ]
  },
  {
   "attachments": {},
   "cell_type": "markdown",
   "metadata": {},
   "source": [
    "### Clean view counts:\n",
    "Convert from format \"##,###,### views\" to integer value (views)"
   ]
  },
  {
   "cell_type": "code",
   "execution_count": 5,
   "metadata": {},
   "outputs": [],
   "source": [
    "df[\"views\"] = df[\"views\"].str.replace('\\D', '', regex=True).astype(int) # Remove any non-integer characters then convert to int"
   ]
  },
  {
   "attachments": {},
   "cell_type": "markdown",
   "metadata": {},
   "source": [
    "### Check output:\n",
    "This is as far as we can get with ScrapeTube. However, we can still get more information about these videos using the YouTube Data API!"
   ]
  },
  {
   "cell_type": "code",
   "execution_count": 6,
   "metadata": {},
   "outputs": [
    {
     "data": {
      "text/html": [
       "<div>\n",
       "<style scoped>\n",
       "    .dataframe tbody tr th:only-of-type {\n",
       "        vertical-align: middle;\n",
       "    }\n",
       "\n",
       "    .dataframe tbody tr th {\n",
       "        vertical-align: top;\n",
       "    }\n",
       "\n",
       "    .dataframe thead th {\n",
       "        text-align: right;\n",
       "    }\n",
       "</style>\n",
       "<table border=\"1\" class=\"dataframe\">\n",
       "  <thead>\n",
       "    <tr style=\"text-align: right;\">\n",
       "      <th></th>\n",
       "      <th>id</th>\n",
       "      <th>name</th>\n",
       "      <th>duration</th>\n",
       "      <th>views</th>\n",
       "      <th>published</th>\n",
       "      <th>thumb</th>\n",
       "      <th>scraped</th>\n",
       "    </tr>\n",
       "  </thead>\n",
       "  <tbody>\n",
       "    <tr>\n",
       "      <th>0</th>\n",
       "      <td>XiORNYGT-6s</td>\n",
       "      <td>Our Best Food Creations This Year</td>\n",
       "      <td>1331</td>\n",
       "      <td>738442</td>\n",
       "      <td>1 day ago</td>\n",
       "      <td>{'still': 'https://i.ytimg.com/vi/XiORNYGT-6s/...</td>\n",
       "      <td>2022-12-20 15:08:42.475608</td>\n",
       "    </tr>\n",
       "    <tr>\n",
       "      <th>1</th>\n",
       "      <td>B6dXVr0r0Ws</td>\n",
       "      <td>We Tried EVERY Goldfish Flavor</td>\n",
       "      <td>1194</td>\n",
       "      <td>1340918</td>\n",
       "      <td>4 days ago</td>\n",
       "      <td>{'still': 'https://i.ytimg.com/vi/B6dXVr0r0Ws/...</td>\n",
       "      <td>2022-12-20 15:08:42.475628</td>\n",
       "    </tr>\n",
       "    <tr>\n",
       "      <th>2</th>\n",
       "      <td>RPp5CXZVhlc</td>\n",
       "      <td>We Hug For 20 Minutes Straight... For Science</td>\n",
       "      <td>1394</td>\n",
       "      <td>522652</td>\n",
       "      <td>5 days ago</td>\n",
       "      <td>{'still': 'https://i.ytimg.com/vi/RPp5CXZVhlc/...</td>\n",
       "      <td>2022-12-20 15:08:42.475637</td>\n",
       "    </tr>\n",
       "    <tr>\n",
       "      <th>3</th>\n",
       "      <td>JrZP8aAZE9M</td>\n",
       "      <td>Lab Grown Dairy Taste Test</td>\n",
       "      <td>1140</td>\n",
       "      <td>887282</td>\n",
       "      <td>6 days ago</td>\n",
       "      <td>{'still': 'https://i.ytimg.com/vi/JrZP8aAZE9M/...</td>\n",
       "      <td>2022-12-20 15:08:42.475645</td>\n",
       "    </tr>\n",
       "    <tr>\n",
       "      <th>4</th>\n",
       "      <td>74ntqQXYK5s</td>\n",
       "      <td>Testing Discontinued Toys From The 80's</td>\n",
       "      <td>1191</td>\n",
       "      <td>857868</td>\n",
       "      <td>7 days ago</td>\n",
       "      <td>{'still': 'https://i.ytimg.com/vi/74ntqQXYK5s/...</td>\n",
       "      <td>2022-12-20 15:08:42.475652</td>\n",
       "    </tr>\n",
       "  </tbody>\n",
       "</table>\n",
       "</div>"
      ],
      "text/plain": [
       "            id                                           name  duration  \\\n",
       "0  XiORNYGT-6s              Our Best Food Creations This Year      1331   \n",
       "1  B6dXVr0r0Ws                 We Tried EVERY Goldfish Flavor      1194   \n",
       "2  RPp5CXZVhlc  We Hug For 20 Minutes Straight... For Science      1394   \n",
       "3  JrZP8aAZE9M                     Lab Grown Dairy Taste Test      1140   \n",
       "4  74ntqQXYK5s        Testing Discontinued Toys From The 80's      1191   \n",
       "\n",
       "     views   published                                              thumb  \\\n",
       "0   738442   1 day ago  {'still': 'https://i.ytimg.com/vi/XiORNYGT-6s/...   \n",
       "1  1340918  4 days ago  {'still': 'https://i.ytimg.com/vi/B6dXVr0r0Ws/...   \n",
       "2   522652  5 days ago  {'still': 'https://i.ytimg.com/vi/RPp5CXZVhlc/...   \n",
       "3   887282  6 days ago  {'still': 'https://i.ytimg.com/vi/JrZP8aAZE9M/...   \n",
       "4   857868  7 days ago  {'still': 'https://i.ytimg.com/vi/74ntqQXYK5s/...   \n",
       "\n",
       "                     scraped  \n",
       "0 2022-12-20 15:08:42.475608  \n",
       "1 2022-12-20 15:08:42.475628  \n",
       "2 2022-12-20 15:08:42.475637  \n",
       "3 2022-12-20 15:08:42.475645  \n",
       "4 2022-12-20 15:08:42.475652  "
      ]
     },
     "execution_count": 6,
     "metadata": {},
     "output_type": "execute_result"
    }
   ],
   "source": [
    "df.head()"
   ]
  },
  {
   "attachments": {},
   "cell_type": "markdown",
   "metadata": {},
   "source": [
    "### Export to CSV:"
   ]
  },
  {
   "cell_type": "code",
   "execution_count": 7,
   "metadata": {},
   "outputs": [],
   "source": [
    "output_path = \"data/gmm-episodes.csv\"\n",
    "df.to_csv(output_path)"
   ]
  }
 ],
 "metadata": {
  "kernelspec": {
   "display_name": "Python 3",
   "language": "python",
   "name": "python3"
  },
  "language_info": {
   "codemirror_mode": {
    "name": "ipython",
    "version": 3
   },
   "file_extension": ".py",
   "mimetype": "text/x-python",
   "name": "python",
   "nbconvert_exporter": "python",
   "pygments_lexer": "ipython3",
   "version": "3.10.6"
  },
  "orig_nbformat": 4,
  "vscode": {
   "interpreter": {
    "hash": "bece7127777d8681f6b1909d19e009379ddeaa50e8dab6af7ea1715374cc99fb"
   }
  }
 },
 "nbformat": 4,
 "nbformat_minor": 2
}
